{
 "cells": [
  {
   "cell_type": "code",
   "execution_count": 89,
   "metadata": {},
   "outputs": [],
   "source": [
    "import numpy as np\n",
    "import matplotlib.pyplot as plt\n"
   ]
  },
  {
   "cell_type": "code",
   "execution_count": 90,
   "metadata": {},
   "outputs": [],
   "source": [
    "def get_mse(target, preds):\n",
    "    # Calculate the error\n",
    "    error = preds - target\n",
    "    mse = np.mean(error**2)\n",
    "    return mse"
   ]
  },
  {
   "cell_type": "code",
   "execution_count": 91,
   "metadata": {},
   "outputs": [],
   "source": [
    "def relu(input):\n",
    "    # Calculate the value for the output of the relu function: output\n",
    "    output = max(0, input)\n",
    "    # Return the value just calculated\n",
    "    return(output)"
   ]
  },
  {
   "cell_type": "code",
   "execution_count": 92,
   "metadata": {},
   "outputs": [],
   "source": [
    "def predict_using_network(input_data, weights):\n",
    "    # Calculate the predictions: preds\n",
    "    preds = (input_data * weights).sum()\n",
    "    # preds = relu(preds)\n",
    "    return preds"
   ]
  },
  {
   "cell_type": "code",
   "execution_count": 93,
   "metadata": {},
   "outputs": [],
   "source": [
    "def train(input_data, target, initial_weights, conf, verbose=False):\n",
    "    # Set the learning rate: learning_rate\n",
    "    learning_rate = conf['learning_rate']\n",
    "    epochs = conf['epochs']\n",
    "    weights = np.array(initial_weights)\n",
    "    mse = 1e9\n",
    "    preds = 0\n",
    "    #\n",
    "    for i in range(epochs):\n",
    "        # Calculate the predictions: preds\n",
    "        new_preds = predict_using_network(input_data, weights)\n",
    "        # Calculate the error: error\n",
    "        new_mse = get_mse(target, preds)\n",
    "        print(\"Epoch: %d, Preds: %f\\t, MSE: %f\" % (i, preds, new_mse)) if verbose else None\n",
    "        if new_mse > mse:\n",
    "            break\n",
    "        mse = new_mse\n",
    "        preds = new_preds\n",
    "        # Calculate the slope: slope\n",
    "        slope = 2 * input_data * mse\n",
    "        # Update the weights: weights_updated\n",
    "        weights = weights - learning_rate * slope\n",
    "    return preds"
   ]
  },
  {
   "cell_type": "code",
   "execution_count": 94,
   "metadata": {},
   "outputs": [],
   "source": [
    "input_data = np.array([10, 20, 30])\n",
    "weights = np.array([1, 2, 1])\n",
    "target = 20"
   ]
  },
  {
   "cell_type": "code",
   "execution_count": 95,
   "metadata": {},
   "outputs": [
    {
     "name": "stdout",
     "output_type": "stream",
     "text": [
      "Epoch: 0, Preds: 0.000000\t, MSE: 400.000000\n",
      "Epoch: 1, Preds: 80.000000\t, MSE: 3600.000000\n",
      "80\n"
     ]
    }
   ],
   "source": [
    "conf = {\n",
    "    \"learning_rate\": 0.001,\n",
    "    \"epochs\": 10\n",
    "}\n",
    "preds = train(input_data, target, weights, conf, verbose=True)\n",
    "print(preds)"
   ]
  },
  {
   "cell_type": "code",
   "execution_count": null,
   "metadata": {},
   "outputs": [],
   "source": []
  }
 ],
 "metadata": {
  "kernelspec": {
   "display_name": "docs-cv",
   "language": "python",
   "name": "python3"
  },
  "language_info": {
   "codemirror_mode": {
    "name": "ipython",
    "version": 3
   },
   "file_extension": ".py",
   "mimetype": "text/x-python",
   "name": "python",
   "nbconvert_exporter": "python",
   "pygments_lexer": "ipython3",
   "version": "3.11.4"
  },
  "orig_nbformat": 4
 },
 "nbformat": 4,
 "nbformat_minor": 2
}
