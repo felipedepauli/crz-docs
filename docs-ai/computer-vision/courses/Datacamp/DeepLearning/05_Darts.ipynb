{
 "cells": [
  {
   "cell_type": "code",
   "execution_count": 26,
   "metadata": {},
   "outputs": [],
   "source": [
    "import pandas as pd\n",
    "import numpy as np\n",
    "import matplotlib.pyplot as plt\n",
    "from tensorflow.keras.models import Sequential\n",
    "from tensorflow.keras.layers import Dense\n",
    "from tensorflow.keras.utils import to_categorical\n",
    "from tensorflow.keras.callbacks import EarlyStopping, ModelCheckpoint"
   ]
  },
  {
   "cell_type": "code",
   "execution_count": 27,
   "metadata": {},
   "outputs": [],
   "source": [
    "def header(title):\n",
    "    print(f'\\n########### {title.upper()} ############')"
   ]
  },
  {
   "cell_type": "code",
   "execution_count": 28,
   "metadata": {},
   "outputs": [],
   "source": [
    "# Read in darts contestant data\n",
    "darts = pd.read_csv('./darts.csv')"
   ]
  },
  {
   "cell_type": "code",
   "execution_count": 29,
   "metadata": {},
   "outputs": [
    {
     "name": "stdout",
     "output_type": "stream",
     "text": [
      "\n",
      "########### INFO ############\n",
      "<class 'pandas.core.frame.DataFrame'>\n",
      "RangeIndex: 800 entries, 0 to 799\n",
      "Data columns (total 3 columns):\n",
      " #   Column      Non-Null Count  Dtype  \n",
      "---  ------      --------------  -----  \n",
      " 0   xCoord      800 non-null    float64\n",
      " 1   yCoord      800 non-null    float64\n",
      " 2   competitor  800 non-null    object \n",
      "dtypes: float64(2), object(1)\n",
      "memory usage: 18.9+ KB\n",
      "\n",
      "########### DESCRIBE ############\n"
     ]
    },
    {
     "data": {
      "text/html": [
       "<div>\n",
       "<style scoped>\n",
       "    .dataframe tbody tr th:only-of-type {\n",
       "        vertical-align: middle;\n",
       "    }\n",
       "\n",
       "    .dataframe tbody tr th {\n",
       "        vertical-align: top;\n",
       "    }\n",
       "\n",
       "    .dataframe thead th {\n",
       "        text-align: right;\n",
       "    }\n",
       "</style>\n",
       "<table border=\"1\" class=\"dataframe\">\n",
       "  <thead>\n",
       "    <tr style=\"text-align: right;\">\n",
       "      <th></th>\n",
       "      <th>xCoord</th>\n",
       "      <th>yCoord</th>\n",
       "    </tr>\n",
       "  </thead>\n",
       "  <tbody>\n",
       "    <tr>\n",
       "      <th>count</th>\n",
       "      <td>800.000000</td>\n",
       "      <td>800.000000</td>\n",
       "    </tr>\n",
       "    <tr>\n",
       "      <th>mean</th>\n",
       "      <td>0.005943</td>\n",
       "      <td>0.022868</td>\n",
       "    </tr>\n",
       "    <tr>\n",
       "      <th>std</th>\n",
       "      <td>0.475971</td>\n",
       "      <td>0.514482</td>\n",
       "    </tr>\n",
       "    <tr>\n",
       "      <th>min</th>\n",
       "      <td>-0.991140</td>\n",
       "      <td>-0.993547</td>\n",
       "    </tr>\n",
       "    <tr>\n",
       "      <th>25%</th>\n",
       "      <td>-0.295314</td>\n",
       "      <td>-0.423079</td>\n",
       "    </tr>\n",
       "    <tr>\n",
       "      <th>50%</th>\n",
       "      <td>0.000619</td>\n",
       "      <td>0.034483</td>\n",
       "    </tr>\n",
       "    <tr>\n",
       "      <th>75%</th>\n",
       "      <td>0.273953</td>\n",
       "      <td>0.452204</td>\n",
       "    </tr>\n",
       "    <tr>\n",
       "      <th>max</th>\n",
       "      <td>0.984816</td>\n",
       "      <td>0.994344</td>\n",
       "    </tr>\n",
       "  </tbody>\n",
       "</table>\n",
       "</div>"
      ],
      "text/plain": [
       "           xCoord      yCoord\n",
       "count  800.000000  800.000000\n",
       "mean     0.005943    0.022868\n",
       "std      0.475971    0.514482\n",
       "min     -0.991140   -0.993547\n",
       "25%     -0.295314   -0.423079\n",
       "50%      0.000619    0.034483\n",
       "75%      0.273953    0.452204\n",
       "max      0.984816    0.994344"
      ]
     },
     "execution_count": 29,
     "metadata": {},
     "output_type": "execute_result"
    }
   ],
   "source": [
    "# Print general information about the DataFrame\n",
    "header(\"info\")\n",
    "darts.info()\n",
    "header(\"describe\")\n",
    "darts.describe()"
   ]
  },
  {
   "cell_type": "code",
   "execution_count": 39,
   "metadata": {},
   "outputs": [
    {
     "name": "stdout",
     "output_type": "stream",
     "text": [
      "<class 'pandas.core.frame.DataFrame'>\n",
      "RangeIndex: 800 entries, 0 to 799\n",
      "Data columns (total 3 columns):\n",
      " #   Column      Non-Null Count  Dtype   \n",
      "---  ------      --------------  -----   \n",
      " 0   xCoord      800 non-null    float64 \n",
      " 1   yCoord      800 non-null    float64 \n",
      " 2   competitor  800 non-null    category\n",
      "dtypes: category(1), float64(2)\n",
      "memory usage: 13.6 KB\n"
     ]
    }
   ],
   "source": [
    "darts[\"competitor\"] = darts[\"competitor\"].astype(\"category\")\n",
    "darts.info()"
   ]
  },
  {
   "cell_type": "code",
   "execution_count": 30,
   "metadata": {},
   "outputs": [],
   "source": [
    "# Now we know the coordinates are of the float64 type, and there is a competitor column that is an object\n",
    "# It was played 800 times.\n",
    "# 1. Who are the competitors?\n",
    "# 2. Have they played the same number of times?"
   ]
  },
  {
   "cell_type": "code",
   "execution_count": 45,
   "metadata": {},
   "outputs": [
    {
     "name": "stdout",
     "output_type": "stream",
     "text": [
      "\n",
      "########### CATEGORIES ############\n",
      "Index(['Kate', 'Michael', 'Steve', 'Susan'], dtype='object')\n",
      "\n",
      "########### CODES ############\n",
      "0      2\n",
      "1      3\n",
      "2      1\n",
      "3      0\n",
      "4      2\n",
      "      ..\n",
      "795    0\n",
      "796    2\n",
      "797    1\n",
      "798    1\n",
      "799    3\n",
      "Length: 800, dtype: int8\n"
     ]
    }
   ],
   "source": [
    "header(\"Categories\")\n",
    "print(darts[\"competitor\"].cat.categories)\n",
    "header(\"Codes\")\n",
    "print(darts[\"competitor\"].cat.codes)"
   ]
  },
  {
   "cell_type": "code",
   "execution_count": 40,
   "metadata": {},
   "outputs": [
    {
     "data": {
      "text/plain": [
       "competitor\n",
       "Kate       200\n",
       "Michael    200\n",
       "Steve      200\n",
       "Susan      200\n",
       "dtype: int64"
      ]
     },
     "execution_count": 40,
     "metadata": {},
     "output_type": "execute_result"
    }
   ],
   "source": [
    "darts.groupby(\"competitor\").size()"
   ]
  },
  {
   "cell_type": "code",
   "execution_count": 52,
   "metadata": {},
   "outputs": [
    {
     "name": "stdout",
     "output_type": "stream",
     "text": [
      "\n",
      "########### COORDINATES ############\n",
      "       xCoord    yCoord\n",
      "0    0.196451 -0.520341\n",
      "1    0.476027 -0.306763\n",
      "2    0.003175 -0.980736\n",
      "3    0.294078  0.267566\n",
      "4   -0.051120  0.598946\n",
      "..        ...       ...\n",
      "795  0.320435 -0.327131\n",
      "796 -0.179372  0.594201\n",
      "797  0.530315 -0.833321\n",
      "798 -0.287258  0.890928\n",
      "799 -0.628403 -0.140868\n",
      "\n",
      "[800 rows x 2 columns]\n",
      "\n",
      "########### LABEL ############\n",
      "0      2\n",
      "1      3\n",
      "2      1\n",
      "3      0\n",
      "4      2\n",
      "      ..\n",
      "795    0\n",
      "796    2\n",
      "797    1\n",
      "798    1\n",
      "799    3\n",
      "Length: 800, dtype: int8\n"
     ]
    }
   ],
   "source": [
    "coordinates = darts.drop('competitor', axis=1)\n",
    "header(\"Coordinates\")\n",
    "print(coordinates)\n",
    "label = darts[\"competitor\"].cat.codes\n",
    "header(\"Label\")\n",
    "print(label)"
   ]
  }
 ],
 "metadata": {
  "kernelspec": {
   "display_name": "docs-cv",
   "language": "python",
   "name": "python3"
  },
  "language_info": {
   "codemirror_mode": {
    "name": "ipython",
    "version": 3
   },
   "file_extension": ".py",
   "mimetype": "text/x-python",
   "name": "python",
   "nbconvert_exporter": "python",
   "pygments_lexer": "ipython3",
   "version": "3.11.5"
  },
  "orig_nbformat": 4
 },
 "nbformat": 4,
 "nbformat_minor": 2
}
