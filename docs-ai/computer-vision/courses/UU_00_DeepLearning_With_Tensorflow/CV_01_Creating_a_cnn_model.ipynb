{
 "cells": [
  {
   "cell_type": "code",
   "execution_count": 2,
   "metadata": {},
   "outputs": [
    {
     "name": "stderr",
     "output_type": "stream",
     "text": [
      "2023-11-08 15:08:25.173043: I tensorflow/core/platform/cpu_feature_guard.cc:182] This TensorFlow binary is optimized to use available CPU instructions in performance-critical operations.\n",
      "To enable the following instructions: SSE4.1 SSE4.2 AVX AVX2 FMA, in other operations, rebuild TensorFlow with the appropriate compiler flags.\n"
     ]
    }
   ],
   "source": [
    "import numpy as np\n",
    "import tensorflow as tf"
   ]
  },
  {
   "cell_type": "markdown",
   "metadata": {},
   "source": [
    "### 1. Create the CNN Model"
   ]
  },
  {
   "cell_type": "code",
   "execution_count": 7,
   "metadata": {},
   "outputs": [],
   "source": [
    "cnn_model = tf.keras.models.Sequential([\n",
    "    tf.keras.layers.Conv2D(\n",
    "        32,                         # batch size\n",
    "        (3, 3),                     # height and width of the kernel\n",
    "        activation='relu',          # activation function\n",
    "        input_shape=(28, 28, 1)     # shape of the input (image)\n",
    "    ),\n",
    "    tf.keras.layers.Conv2D(\n",
    "        10,                         # batch size\n",
    "        (3, 3),                     # height and width of the kernel\n",
    "        activation='relu'           # activation function\n",
    "        # The input is set only for the first layer\n",
    "    ),\n",
    "    tf.keras.layers.MaxPool2D(\n",
    "        (2, 2),\n",
    "        padding='valid'\n",
    "    ),\n",
    "    tf.keras.layers.Conv2D(10, 3, activation='relu'),\n",
    "    tf.keras.layers.Conv2D(10, 3, activation='relu'),\n",
    "    \n",
    "    tf.keras.layers.Flatten(),                          # turn the output into a 1D array\n",
    "    # Classification time!\n",
    "    tf.keras.layers.Dense(10, activation='sigmoid')     # binary activation output\n",
    "])\n",
    "    "
   ]
  },
  {
   "cell_type": "markdown",
   "metadata": {},
   "source": [
    "### 2. Compile the model"
   ]
  },
  {
   "cell_type": "code",
   "execution_count": 8,
   "metadata": {},
   "outputs": [],
   "source": [
    "cnn_model.compile(\n",
    "    loss        = \"binary_crossentropy\",\n",
    "    optimizer   = tf.keras.optimizers.Adam(learning_rate=0.001),\n",
    "    metrics     = ['accuracy']\n",
    ")"
   ]
  },
  {
   "cell_type": "markdown",
   "metadata": {},
   "source": [
    "### 3. Fit the model"
   ]
  },
  {
   "cell_type": "code",
   "execution_count": null,
   "metadata": {},
   "outputs": [],
   "source": [
    "history = cnn_model.fit(train_data, epochs=5)"
   ]
  }
 ],
 "metadata": {
  "kernelspec": {
   "display_name": "docs-deep",
   "language": "python",
   "name": "python3"
  },
  "language_info": {
   "codemirror_mode": {
    "name": "ipython",
    "version": 3
   },
   "file_extension": ".py",
   "mimetype": "text/x-python",
   "name": "python",
   "nbconvert_exporter": "python",
   "pygments_lexer": "ipython3",
   "version": "3.11.4"
  }
 },
 "nbformat": 4,
 "nbformat_minor": 2
}
