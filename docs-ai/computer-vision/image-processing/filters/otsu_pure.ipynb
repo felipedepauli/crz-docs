{
 "cells": [
  {
   "cell_type": "code",
   "execution_count": 2,
   "metadata": {},
   "outputs": [],
   "source": [
    "import numpy as np"
   ]
  },
  {
   "cell_type": "code",
   "execution_count": 3,
   "metadata": {},
   "outputs": [],
   "source": [
    "def otsu_threshold(img):\n",
    "    # Passo 1: Histograma\n",
    "    histogram = [0] * 256\n",
    "    for pixel in img.flatten():\n",
    "        histogram[pixel] += 1\n",
    "\n",
    "    total_pixels = img.size\n",
    "    current_max, threshold = 0, 0\n",
    "    total_foreground, total_background = 0, sum([i * histogram[i] for i in range(256)])\n",
    "\n",
    "    for i in range(256):\n",
    "        # Passo 2: Testando Limiares\n",
    "        foreground_pixel_count = histogram[i]\n",
    "        background_pixel_count = total_pixels - foreground_pixel_count\n",
    "\n",
    "        total_foreground += i * histogram[i]\n",
    "        total_background -= i * histogram[i]\n",
    "\n",
    "        if foreground_pixel_count == 0 or background_pixel_count == 0:\n",
    "            continue\n",
    "\n",
    "        # Passo 3: Calculando a Variância\n",
    "        mean_foreground = total_foreground / foreground_pixel_count\n",
    "        mean_background = total_background / background_pixel_count\n",
    "        variance = foreground_pixel_count * background_pixel_count * (mean_foreground - mean_background) ** 2\n",
    "\n",
    "        # Passo 4: Escolhendo o Melhor Limiar\n",
    "        if variance > current_max:\n",
    "            current_max = variance\n",
    "            threshold = i\n",
    "\n",
    "    return threshold"
   ]
  },
  {
   "cell_type": "code",
   "execution_count": 4,
   "metadata": {},
   "outputs": [],
   "source": [
    "# Matriz 4x4 de exemplo\n",
    "img = np.array([\n",
    "    [50,  55,  52,  53],\n",
    "    [60,  65,  62,  63],\n",
    "    [110, 115, 112, 113],\n",
    "    [120, 125, 122, 123]\n",
    "])"
   ]
  },
  {
   "cell_type": "code",
   "execution_count": 5,
   "metadata": {},
   "outputs": [
    {
     "name": "stdout",
     "output_type": "stream",
     "text": [
      "O limiar ótimo calculado usando o método de Otsu é: 125\n"
     ]
    }
   ],
   "source": [
    "# Calculando o limiar usando o método de Otsu\n",
    "threshold = otsu_threshold(img)\n",
    "print(f\"O limiar ótimo calculado usando o método de Otsu é: {threshold}\")"
   ]
  },
  {
   "cell_type": "code",
   "execution_count": null,
   "metadata": {},
   "outputs": [],
   "source": [
    "nossas trocas sinceras\n",
    "a gente conversa\n",
    "sem medo um do outro\n",
    "o que eu tenho pra dar\n",
    "e o que eu quero ter de uma relação\n",
    "é carinho, respeito e admiração\n",
    "\n",
    "a gente se olha, de igual para igual\n",
    "e eu sinto que é isso, me sinto cuidado, amado e querido e queria dizer\n",
    "que vc me faz bem\n",
    "como é bom dividir a minha vida contigo\n",
    "\n",
    "vai rindo dessas besteiras que eu digo\n",
    "se tu vacilar um dia eu viro teu marido\n",
    "eu quero ser seu cúmplice, teu companheiro\n",
    "te amar o dia inteiro, ser o teu amigo\n",
    "é com vc com que eu quero passar o meu domingo\n",
    "ver a família e visitar nossos amigos\n",
    "\n",
    "sou um pássaro que canta na tua janela\n",
    "e faça primavera na manhão do teu sorriso\n",
    "Quando você sarra em mim na festa é um perigo\n",
    "sabe como me fazer chegar no paraíso\n",
    "\n",
    "viajar um monte, escolhe o rumo que eu te sigo\n",
    "e insisto em passar o resto dessa vida contigo\n",
    "\n"
   ]
  }
 ],
 "metadata": {
  "kernelspec": {
   "display_name": "docs-deep",
   "language": "python",
   "name": "python3"
  },
  "language_info": {
   "codemirror_mode": {
    "name": "ipython",
    "version": 3
   },
   "file_extension": ".py",
   "mimetype": "text/x-python",
   "name": "python",
   "nbconvert_exporter": "python",
   "pygments_lexer": "ipython3",
   "version": "3.11.4"
  }
 },
 "nbformat": 4,
 "nbformat_minor": 2
}
