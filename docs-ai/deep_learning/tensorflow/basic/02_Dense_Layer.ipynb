{
 "cells": [
  {
   "cell_type": "code",
   "execution_count": 32,
   "metadata": {},
   "outputs": [],
   "source": [
    "import tensorflow as tf"
   ]
  },
  {
   "cell_type": "code",
   "execution_count": 33,
   "metadata": {},
   "outputs": [],
   "source": [
    "# Defining the first node and its correlations\n",
    "inputs  = tf.constant([[1.0, 35.0]])\n",
    "weights = tf.Variable([[-0.05], [-0.00]])\n",
    "bias    = tf.Variable([0.5])\n",
    "product = tf.matmul(inputs, weights)\n"
   ]
  },
  {
   "cell_type": "markdown",
   "metadata": {},
   "source": [
    "Above, we got a simple done being calculated.\n",
    "You have to do it for each node."
   ]
  },
  {
   "cell_type": "code",
   "execution_count": 34,
   "metadata": {},
   "outputs": [],
   "source": [
    "# Let's multiply all of them\n",
    "product = tf.matmul(inputs, weights)\n",
    "# And sum the bias\n",
    "node_prev = product + bias\n",
    "# Activation function\n",
    "dense = tf.keras.activations.sigmoid(node_prev)"
   ]
  },
  {
   "cell_type": "markdown",
   "metadata": {},
   "source": [
    "Or... you can use the Dense method instead"
   ]
  },
  {
   "cell_type": "code",
   "execution_count": 35,
   "metadata": {},
   "outputs": [],
   "source": [
    "dense1  = tf.keras.layers.Dense(10, activation='sigmoid')(inputs)\n",
    "dense2  = tf.keras.layers.Dense( 5, activation='sigmoid')(dense1)\n",
    "outputs = tf.keras.layers.Dense( 1, activation='sigmoid')(dense2)"
   ]
  }
 ],
 "metadata": {
  "kernelspec": {
   "display_name": "docs-deep",
   "language": "python",
   "name": "python3"
  },
  "language_info": {
   "codemirror_mode": {
    "name": "ipython",
    "version": 3
   },
   "file_extension": ".py",
   "mimetype": "text/x-python",
   "name": "python",
   "nbconvert_exporter": "python",
   "pygments_lexer": "ipython3",
   "version": "3.11.4"
  }
 },
 "nbformat": 4,
 "nbformat_minor": 2
}
