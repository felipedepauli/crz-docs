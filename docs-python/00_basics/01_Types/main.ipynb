{
 "cells": [
  {
   "cell_type": "markdown",
   "metadata": {},
   "source": [
    "<style>\n",
    "* {\n",
    "    font-family: \"Syne Mono\";\n",
    "}\n",
    "h1 {\n",
    "    color: #109060;\n",
    "}\n",
    "p {\n",
    "    font-size: 16px;\n",
    "}\n",
    "</style>\n",
    "<h1>Conceitos Básicos</h1>\n",
    "<p>Os conceitos iniciais serão abordados neste caderno. Começamos com o print na sua forma mais básica</p>"
   ]
  },
  {
   "cell_type": "code",
   "execution_count": 4,
   "metadata": {},
   "outputs": [
    {
     "name": "stdout",
     "output_type": "stream",
     "text": [
      "Meu sapato.\n",
      "Meu sapato.\n",
      "Meu sapato.\n",
      "Meu-sapato.\n",
      "Isso é uma \"string\"!\n",
      "Isso é uma 'string'!\n",
      "Isso é uma 'string'!\n",
      "Isso é uma \\'string\\'!\n"
     ]
    }
   ],
   "source": [
    "# as formas mais básicas de se imprimir\n",
    "print(\"Meu sapato.\")\n",
    "print(\"Meu\", \"sapato.\")\n",
    "print(\"Meu\" + \" sapato\" + \".\")\n",
    "print(\"Meu\", \"sapato\", sep=\"-\", end=\".\\n\")\n",
    "\n",
    "print('Isso é uma \"string\"!')\n",
    "print(\"Isso é uma 'string'!\")\n",
    "print('Isso é uma \\'string\\'!')\n",
    "print(r'Isso é uma \\'string\\'!')"
   ]
  },
  {
   "cell_type": "markdown",
   "metadata": {},
   "source": [
    "<style>\n",
    "* {\n",
    "    font-family: \"Syne Mono\";\n",
    "}\n",
    "h2 {\n",
    "    color: #409060;\n",
    "}\n",
    "p {\n",
    "    font-size: 16px;\n",
    "}\n",
    "</style>\n",
    "<h2>Tipos primitivos</h2>\n",
    "<p>Estes são os principais tipos, a partir dos quais se obtém os outros.</p>\n"
   ]
  },
  {
   "cell_type": "code",
   "execution_count": null,
   "metadata": {},
   "outputs": [],
   "source": [
    "# Tipos de dados primitivos\n",
    "# ... classes\n",
    "print(type(\"Meu sapato\"))   # String\n",
    "print(type(12))             # Int\n",
    "print(type(12.1))           # Float\n",
    "print(type(True))           # Boolean\n",
    "\n",
    "print(bool(\"\")) # Todos são falsos\n",
    "print(bool([])) # Todos são falsos\n",
    "print(bool({})) # Todos são falsos\n",
    "\n",
    "print(type(int(\"1212\")))\n",
    "\n",
    "valor1 = valor2 = \"1212\"\n",
    "valor1 = valor1 + \"1\"\n",
    "valor2 = int(valor2) + 2\n",
    "print(valor1, type(valor1))\n",
    "print(valor2, type(valor2))"
   ]
  },
  {
   "cell_type": "markdown",
   "metadata": {},
   "source": [
    "<style>\n",
    "* {\n",
    "    font-family: \"Syne Mono\";\n",
    "}\n",
    "h2 {\n",
    "    color: #409060;\n",
    "}\n",
    "p {\n",
    "    font-size: 16px;\n",
    "}\n",
    "</style>\n",
    "<h2>Operadores e formatação</h2>\n",
    "<p>Os principais operadores são +, -, *, /, //, % e  **.</p>"
   ]
  },
  {
   "cell_type": "code",
   "execution_count": 5,
   "metadata": {},
   "outputs": [
    {
     "name": "stdout",
     "output_type": "stream",
     "text": [
      "4  +  1\n",
      "4  +  1\n",
      "16\n",
      "Oi, oi, oi, oi, oi, oi, oi, oi, oi, oi.\n",
      "dae seu filho da puta por {numeroDeInteresse} vezes.\n",
      "dae seu filho da puta por 9.00 vezes.\n",
      "O pi não é 3.14e+09\n",
      "satanás vive \" bem louc\n"
     ]
    }
   ],
   "source": [
    "numeroDeInteresse = 9\n",
    "print(int(numeroDeInteresse/2),\" + \",  numeroDeInteresse%2)\n",
    "print(numeroDeInteresse//2,\" + \",  numeroDeInteresse%2)\n",
    "print(2**4)\n",
    "print(\"Oi\", end=\", \"); print(2**3 * \"oi, \", end=\"\"); print(\"oi.\")\n",
    "\n",
    "print('dae seu filho da puta por {numeroDeInteresse} vezes.')\n",
    "print(f'dae seu filho da puta por {numeroDeInteresse:.2f} vezes.')\n",
    "print(f'O pi não é {3141516998:.2e}')\n",
    "\n"
   ]
  }
 ],
 "metadata": {
  "interpreter": {
   "hash": "d034eac455ef6a0de03e633f02c98f91f1b386010bcd71958f296e7d2ac4641b"
  },
  "kernelspec": {
   "display_name": "Python 3.8.8 64-bit ('base': conda)",
   "name": "python3"
  },
  "language_info": {
   "codemirror_mode": {
    "name": "ipython",
    "version": 3
   },
   "file_extension": ".py",
   "mimetype": "text/x-python",
   "name": "python",
   "nbconvert_exporter": "python",
   "pygments_lexer": "ipython3",
   "version": "3.8.8"
  },
  "orig_nbformat": 4
 },
 "nbformat": 4,
 "nbformat_minor": 2
}
