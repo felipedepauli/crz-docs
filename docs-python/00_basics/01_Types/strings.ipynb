{
 "cells": [
  {
   "cell_type": "code",
   "execution_count": null,
   "metadata": {},
   "outputs": [],
   "source": []
  },
  {
   "cell_type": "markdown",
   "metadata": {},
   "source": [
    "**Métodos**\n",
    "```Python\n",
    "String.capitalize()\n",
    "String.casefold()\n",
    "String.center()\n",
    "String.count()\n",
    "String.encode()\n",
    "String.endswith()\n",
    "String.expandtabs()\n",
    "String.find()\n",
    "String.format()\n",
    "String.format_map()\n",
    "String.index()\n",
    "String.isalnum()\n",
    "String.isalpha()\n",
    "String.isascii()\n",
    "String.isdecimal()\n",
    "String.isdigit()\n",
    "String.isidentifier()\n",
    "String.islower()\n",
    "String.isnumeric()\n",
    "String.isprintable()\n",
    "String.isspace()\n",
    "String.istitle()\n",
    "String.isupper()\n",
    "String.join()\n",
    "String.ljust()\n",
    "String.lower()\n",
    "String.lstrip()\n",
    "String.maketrans()\n",
    "String.parition()\n",
    "String.replace()\n",
    "String.rfind()\n",
    "String.rindex()\n",
    "String.rjust()\n",
    "String.rpartition()\n",
    "String.rsplit()\n",
    "String.rstrip()\n",
    "String.split()\n",
    "String.splitlines()\n",
    "String.startswith()\n",
    "String.strip()\n",
    "String.swapcase()\n",
    "String.title()\n",
    "String.translate()\n",
    "String.upper()\n",
    "String.zfill()\n",
    "```"
   ]
  },
  {
   "cell_type": "code",
   "execution_count": 1,
   "metadata": {},
   "outputs": [
    {
     "ename": "ModuleNotFoundError",
     "evalue": "No module named 'main'",
     "output_type": "error",
     "traceback": [
      "\u001b[1;31m---------------------------------------------------------------------------\u001b[0m",
      "\u001b[1;31mModuleNotFoundError\u001b[0m                       Traceback (most recent call last)",
      "\u001b[1;32m~\\AppData\\Local\\Temp/ipykernel_25428/1687569809.py\u001b[0m in \u001b[0;36m<module>\u001b[1;34m\u001b[0m\n\u001b[1;32m----> 1\u001b[1;33m \u001b[1;32mimport\u001b[0m \u001b[0mmain\u001b[0m\u001b[1;33m\u001b[0m\u001b[1;33m\u001b[0m\u001b[0m\n\u001b[0m\u001b[0;32m      2\u001b[0m \u001b[1;31m# Comentário maluco.\u001b[0m\u001b[1;33m\u001b[0m\u001b[1;33m\u001b[0m\u001b[1;33m\u001b[0m\u001b[0m\n\u001b[0;32m      3\u001b[0m \u001b[0mmain\u001b[0m\u001b[1;33m.\u001b[0m\u001b[0mminhaFuncao\u001b[0m\u001b[1;33m(\u001b[0m\u001b[1;33m)\u001b[0m\u001b[1;33m\u001b[0m\u001b[1;33m\u001b[0m\u001b[0m\n\u001b[0;32m      4\u001b[0m \u001b[0mprint\u001b[0m\u001b[1;33m(\u001b[0m\u001b[1;34m\"Meu sapato.\"\u001b[0m\u001b[1;33m)\u001b[0m\u001b[1;33m\u001b[0m\u001b[1;33m\u001b[0m\u001b[0m\n\u001b[0;32m      5\u001b[0m \u001b[0mprint\u001b[0m\u001b[1;33m(\u001b[0m\u001b[1;34m\"Meu\"\u001b[0m\u001b[1;33m,\u001b[0m \u001b[1;34m\"sapato.\"\u001b[0m\u001b[1;33m)\u001b[0m\u001b[1;33m\u001b[0m\u001b[1;33m\u001b[0m\u001b[0m\n",
      "\u001b[1;31mModuleNotFoundError\u001b[0m: No module named 'main'"
     ]
    }
   ],
   "source": [
    "import main\n",
    "\n",
    "minha_string = ['Uma string muito louca.', 2]\n",
    "minha_string.\n",
    "# Comentário maluco.\n",
    "main.minhaFuncao()\n",
    "print(\"Meu sapato.\")\n",
    "print(\"Meu\", \"sapato.\")\n",
    "print(\"Meu\" + \" sapato\" + \".\")\n",
    "print(\"Meu\", \"sapato\", sep=\"-\", end=\".\\n\")\n",
    "\n",
    "print('Isso é uma \"string\"!')\n",
    "print(\"Isso é uma 'string'!\")\n",
    "print('Isso é uma \\'string\\'!')\n",
    "print(r'Isso é uma \\'string\\'!')\n",
    "\n",
    "# Tipos de dados primitivos\n",
    "# ... classes\n",
    "print(type(\"Meu sapato\"))   # String\n",
    "print(type(12))             # Int\n",
    "print(type(12.1))           # Float\n",
    "print(type(True))           # Boolean\n",
    "\n",
    "print(bool(\"\")) # Todos são falsos\n",
    "print(bool([])) # Todos são falsos\n",
    "print(bool({})) # Todos são falsos\n",
    "\n",
    "print(type(int(\"1212\")))\n",
    "\n",
    "valor1 = valor2 = \"1212\"\n",
    "valor1 = valor1 + \"1\"\n",
    "valor2 = int(valor2) + 2\n",
    "print(valor1, type(valor1))\n",
    "print(valor2, type(valor2))\n",
    "\n",
    "numeroDeInteresse = 9\n",
    "print(int(numeroDeInteresse/2),\" + \",  numeroDeInteresse%2)\n",
    "print(numeroDeInteresse//2,\" + \",  numeroDeInteresse%2)\n",
    "print(2**4)\n",
    "print(\"Oi\", end=\", \"); print(2**3 * \"oi, \", end=\"\"); print(\"oi.\")\n",
    "\n",
    "print('dae seu filho da puta por {numeroDeInteresse} vezes.')\n",
    "print(f'dae seu filho da puta por {numeroDeInteresse:.2f} vezes.')\n",
    "print(f'O pi não é {3141516998:.2e}')\n",
    "\n",
    "\n",
    "print(\"End\")"
   ]
  }
 ],
 "metadata": {
  "interpreter": {
   "hash": "d034eac455ef6a0de03e633f02c98f91f1b386010bcd71958f296e7d2ac4641b"
  },
  "kernelspec": {
   "display_name": "Python 3.8.8 ('base')",
   "language": "python",
   "name": "python3"
  },
  "language_info": {
   "codemirror_mode": {
    "name": "ipython",
    "version": 3
   },
   "file_extension": ".py",
   "mimetype": "text/x-python",
   "name": "python",
   "nbconvert_exporter": "python",
   "pygments_lexer": "ipython3",
   "version": "3.8.8"
  },
  "orig_nbformat": 4
 },
 "nbformat": 4,
 "nbformat_minor": 2
}
