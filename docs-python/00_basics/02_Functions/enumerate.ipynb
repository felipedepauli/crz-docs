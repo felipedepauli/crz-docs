{
 "cells": [
  {
   "cell_type": "code",
   "execution_count": 7,
   "metadata": {},
   "outputs": [
    {
     "data": {
      "text/plain": [
       "[(0, ['Felipe', 'Helena', 'Heitorzim']),\n",
       " (1, ['Jão', 'Malu', 'Giana']),\n",
       " (2, ['Adri', 'Raiden', 'Cloe'])]"
      ]
     },
     "execution_count": 7,
     "metadata": {},
     "output_type": "execute_result"
    }
   ],
   "source": [
    "lista =  [\n",
    "    ['Felipe', 'Helena', 'Heitorzim'],\n",
    "    ['Jão', 'Malu', 'Giana'],\n",
    "    ['Adri', 'Raiden', 'Cloe']\n",
    "]\n",
    "enumerada = list(enumerate(lista))\n",
    "enumerada"
   ]
  },
  {
   "cell_type": "markdown",
   "metadata": {},
   "source": [
    "Perceba que a gente tem tuplas () com índices associados a cada um dos arrays."
   ]
  },
  {
   "cell_type": "code",
   "execution_count": 8,
   "metadata": {},
   "outputs": [
    {
     "name": "stdout",
     "output_type": "stream",
     "text": [
      "0 ['Felipe', 'Helena', 'Heitorzim']\n",
      "1 ['Jão', 'Malu', 'Giana']\n",
      "2 ['Adri', 'Raiden', 'Cloe']\n"
     ]
    }
   ],
   "source": [
    "for v1, v2 in enumerate(lista):\n",
    "    print(v1, v2)"
   ]
  }
 ],
 "metadata": {
  "interpreter": {
   "hash": "d034eac455ef6a0de03e633f02c98f91f1b386010bcd71958f296e7d2ac4641b"
  },
  "kernelspec": {
   "display_name": "Python 3.8.8 64-bit ('base': conda)",
   "language": "python",
   "name": "python3"
  },
  "language_info": {
   "codemirror_mode": {
    "name": "ipython",
    "version": 3
   },
   "file_extension": ".py",
   "mimetype": "text/x-python",
   "name": "python",
   "nbconvert_exporter": "python",
   "pygments_lexer": "ipython3",
   "version": "3.8.8"
  },
  "orig_nbformat": 4
 },
 "nbformat": 4,
 "nbformat_minor": 2
}
