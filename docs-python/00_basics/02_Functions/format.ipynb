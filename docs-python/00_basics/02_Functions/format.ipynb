{
 "cells": [
  {
   "cell_type": "markdown",
   "metadata": {},
   "source": [
    "# Formatando valores com modificadores\n",
    "\n",
    ":s - Texto (strings)  \n",
    ":d - Inteiros (int)  \n",
    ":f - Números de ponto flutuante (float)  \n",
    ":.(número)f - Quantidade de casas decimais (float)  \n",
    ":(caractere) (> ou < ou ^) (Quantidade) (Tipo - s, d ou f)  \n",
    "\n",
    "\\>  Esquerda  \n",
    "<  Direita  \n",
    "^  Centro  "
   ]
  },
  {
   "cell_type": "code",
   "execution_count": 20,
   "metadata": {},
   "outputs": [
    {
     "name": "stdout",
     "output_type": "stream",
     "text": [
      "3.3333333333333335\n",
      "--------------\n",
      "3.3\n",
      "3.3\n",
      "--------------\n",
      "3.33\n",
      "3.33\n",
      "--------------\n",
      "3.3333333333333335\n"
     ]
    }
   ],
   "source": [
    "num_1 = 10\n",
    "num_2 = 3\n",
    "\n",
    "divisao = num_1 / num_2\n",
    "\n",
    "print(divisao); print('--------------')\n",
    "# 2 números significativos.\n",
    "print('{:.2}'.format(divisao))  \n",
    "print(f'{divisao:.2}'); print('--------------')\n",
    "# 2 casas decimais\n",
    "print('{:.2f}'.format(divisao)) \n",
    "print(f'{divisao:.2f}'); print('--------------')"
   ]
  },
  {
   "cell_type": "code",
   "execution_count": 27,
   "metadata": {},
   "outputs": [
    {
     "name": "stdout",
     "output_type": "stream",
     "text": [
      "0000000001\n",
      "0000000123\n",
      "1000000000\n",
      "1231111111\n",
      "0001230000\n"
     ]
    }
   ],
   "source": [
    "num1 = 1\n",
    "num2 = 123\n",
    "# Número fixo na tela\n",
    "print('{:0>10}'.format(num1))   # Preenche à esquerda com zeros para se ter 10 algarismos ao todo.\n",
    "print('{:0>10}'.format(num2))   # Idem ao anterior\n",
    "print('{:0<10}'.format(num1))   # Preenche à direita com zeros para se ter 10 algarismos ao todo.\n",
    "print('{:1<10}'.format(num2))   # Preenche à direita com uns, idem ao anterior.\n",
    "print('{:0^10}'.format(num2))   # Centraliza o número e preenche com zeros para se ter 10 algarismos ao todo.\n"
   ]
  },
  {
   "cell_type": "code",
   "execution_count": 36,
   "metadata": {},
   "outputs": [
    {
     "name": "stdout",
     "output_type": "stream",
     "text": [
      "0000001.23\n",
      "1.23000000\n"
     ]
    }
   ],
   "source": [
    "num = 1.23\n",
    "# Número flutuante fixo na tela\n",
    "print(f'{num:0>10.2f}')\n",
    "print(f'{num:0<10.2f}')"
   ]
  },
  {
   "cell_type": "code",
   "execution_count": 1,
   "metadata": {},
   "outputs": [
    {
     "name": "stdout",
     "output_type": "stream",
     "text": [
      "xxxxxxxxxO\n",
      "Oxxxxxxxxx\n",
      "xxxxOxxxxx\n"
     ]
    }
   ],
   "source": [
    "char = 'O'\n",
    "# Caractere fixo na tela\n",
    "print('{:x>10}'.format(char))\n",
    "print('{:x<10}'.format(char))\n",
    "print('{:x^10}'.format(char))"
   ]
  },
  {
   "cell_type": "code",
   "execution_count": 8,
   "metadata": {},
   "outputs": [
    {
     "name": "stdout",
     "output_type": "stream",
     "text": [
      "Felipe Camargo de Pauli___________________________\n",
      "___________________________Felipe Camargo de Pauli\n"
     ]
    },
    {
     "data": {
      "text/plain": [
       "'_____________Felipe Camargo de Pauli______________'"
      ]
     },
     "execution_count": 8,
     "metadata": {},
     "output_type": "execute_result"
    }
   ],
   "source": [
    "print('Felipe Camargo de Pauli'.ljust(50, '_'))\n",
    "print('Felipe Camargo de Pauli'.rjust(50, '_'))\n",
    "'Felipe Camargo de Pauli'.center(50, '_')"
   ]
  }
 ],
 "metadata": {
  "interpreter": {
   "hash": "d034eac455ef6a0de03e633f02c98f91f1b386010bcd71958f296e7d2ac4641b"
  },
  "kernelspec": {
   "display_name": "Python 3.8.8 64-bit ('base': conda)",
   "language": "python",
   "name": "python3"
  },
  "language_info": {
   "codemirror_mode": {
    "name": "ipython",
    "version": 3
   },
   "file_extension": ".py",
   "mimetype": "text/x-python",
   "name": "python",
   "nbconvert_exporter": "python",
   "pygments_lexer": "ipython3",
   "version": "3.8.8"
  },
  "orig_nbformat": 4
 },
 "nbformat": 4,
 "nbformat_minor": 2
}
