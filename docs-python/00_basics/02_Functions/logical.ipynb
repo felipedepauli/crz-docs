{
 "cells": [
  {
   "cell_type": "code",
   "execution_count": 31,
   "metadata": {},
   "outputs": [],
   "source": [
    "import numpy as np"
   ]
  },
  {
   "cell_type": "code",
   "execution_count": 32,
   "metadata": {},
   "outputs": [],
   "source": [
    "my_house = np.array([18.0, 20.0, 10.75, 9.50])\n",
    "your_house = np.array([14.0, 24.0, 14.25, 9.0])"
   ]
  },
  {
   "cell_type": "code",
   "execution_count": 33,
   "metadata": {},
   "outputs": [
    {
     "data": {
      "text/plain": [
       "array([False,  True, False,  True])"
      ]
     },
     "execution_count": 33,
     "metadata": {},
     "output_type": "execute_result"
    }
   ],
   "source": [
    "# my_house greater than 18.5 or smaller than 10\n",
    "np.logical_or(my_house > 18.5, your_house < 10)"
   ]
  },
  {
   "cell_type": "code",
   "execution_count": 34,
   "metadata": {},
   "outputs": [
    {
     "data": {
      "text/plain": [
       "array([False, False, False,  True])"
      ]
     },
     "execution_count": 34,
     "metadata": {},
     "output_type": "execute_result"
    }
   ],
   "source": [
    "# Both my_house and your_house smaller than 11\n",
    "np.logical_and(my_house < 11, your_house < 11)"
   ]
  },
  {
   "cell_type": "code",
   "execution_count": 38,
   "metadata": {},
   "outputs": [
    {
     "name": "stdout",
     "output_type": "stream",
     "text": [
      "         country    capital    area  population\n",
      "11        Brazil   Brasilia   8.516      200.40\n",
      "22        Russia     Moscow  17.100      143.50\n",
      "33         India  New Delhi   3.286     1252.00\n",
      "44         China    Beijing   9.597     1357.00\n",
      "55  South Africa   Pretoria   1.221       52.98\n",
      "         country    capital    area  population\n",
      "id                                             \n",
      "BR        Brazil   Brasilia   8.516      200.40\n",
      "RU        Russia     Moscow  17.100      143.50\n",
      "IN         India  New Delhi   3.286     1252.00\n",
      "CH         China    Beijing   9.597     1357.00\n",
      "SA  South Africa   Pretoria   1.221       52.98\n"
     ]
    }
   ],
   "source": [
    "brics_dict = {\n",
    "    \"country\": ['Brazil', 'Russia', 'India', 'China', 'South Africa'],\n",
    "    \"capital\": ['Brasilia', 'Moscow', 'New Delhi', 'Beijing', 'Pretoria'],\n",
    "    \"area\": [8.516, 17.100, 3.286, 9.597, 1.221],\n",
    "    \"population\": [200.40, 143.50, 1252.00, 1357.00, 52.98]\n",
    "}\n",
    "import pandas as pd\n",
    "brics = pd.DataFrame(brics_dict, index=[11, 22, 33, 44, 55])\n",
    "print(brics)\n",
    "brics['id'] = ['BR', 'RU', 'IN', 'CH', 'SA']\n",
    "brics.set_index('id', inplace = True)\n",
    "\n",
    "print(brics)"
   ]
  },
  {
   "cell_type": "code",
   "execution_count": null,
   "metadata": {},
   "outputs": [],
   "source": []
  }
 ],
 "metadata": {
  "interpreter": {
   "hash": "d034eac455ef6a0de03e633f02c98f91f1b386010bcd71958f296e7d2ac4641b"
  },
  "kernelspec": {
   "display_name": "Python 3.8.8 ('base')",
   "language": "python",
   "name": "python3"
  },
  "language_info": {
   "codemirror_mode": {
    "name": "ipython",
    "version": 3
   },
   "file_extension": ".py",
   "mimetype": "text/x-python",
   "name": "python",
   "nbconvert_exporter": "python",
   "pygments_lexer": "ipython3",
   "version": "3.8.8"
  },
  "orig_nbformat": 4
 },
 "nbformat": 4,
 "nbformat_minor": 2
}
