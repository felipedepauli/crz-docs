{
 "cells": [
  {
   "cell_type": "code",
   "execution_count": 9,
   "metadata": {},
   "outputs": [],
   "source": [
    "import numpy as np"
   ]
  },
  {
   "cell_type": "markdown",
   "metadata": {},
   "source": [
    "## For"
   ]
  },
  {
   "cell_type": "markdown",
   "metadata": {},
   "source": [
    "### Dictionaries"
   ]
  },
  {
   "cell_type": "code",
   "execution_count": 10,
   "metadata": {},
   "outputs": [],
   "source": [
    "characteres = {\n",
    "    \"Marceline\": \"the vampire\",\n",
    "    \"Earl\": \"the lemom\",\n",
    "    \"Bubblegum\": \"the princess\",\n",
    "    \"Prismo\": \"my man\",\n",
    "    \"The Lich\": \"lord of the darkness\"\n",
    "}"
   ]
  },
  {
   "cell_type": "code",
   "execution_count": 11,
   "metadata": {},
   "outputs": [
    {
     "name": "stdout",
     "output_type": "stream",
     "text": [
      "Marceline, the vampire!\n",
      "Earl, the lemom!\n",
      "Bubblegum, the princess!\n",
      "Prismo, my man!\n",
      "The Lich, lord of the darkness!\n"
     ]
    }
   ],
   "source": [
    "for name, greeting in characteres.items():\n",
    "    print(f'{name}, {greeting}!')"
   ]
  },
  {
   "cell_type": "markdown",
   "metadata": {},
   "source": [
    "### Numpy arrays"
   ]
  },
  {
   "cell_type": "code",
   "execution_count": 15,
   "metadata": {},
   "outputs": [],
   "source": [
    "height = [1.73, 1.68, 1.71, 1.89, 1.79]\n",
    "weight = [65.4, 59.2, 63.6, 88.4, 68.7]"
   ]
  },
  {
   "cell_type": "markdown",
   "metadata": {},
   "source": [
    "Bom, a gente quer iterar todos os elementos destes dois arrays. Para isso, teremos que fazer o seguinte. Primeiro, temos que garantir que estamos trabalhando com ndarrays."
   ]
  },
  {
   "cell_type": "code",
   "execution_count": 16,
   "metadata": {},
   "outputs": [
    {
     "name": "stdout",
     "output_type": "stream",
     "text": [
      "<class 'list'> <class 'list'>\n"
     ]
    }
   ],
   "source": [
    "print(type(height),type(weight))"
   ]
  },
  {
   "cell_type": "code",
   "execution_count": 19,
   "metadata": {},
   "outputs": [
    {
     "name": "stdout",
     "output_type": "stream",
     "text": [
      "<class 'numpy.ndarray'> <class 'numpy.ndarray'>\n"
     ]
    }
   ],
   "source": [
    "np_height = np.array(height)\n",
    "np_weight = np.array(weight)\n",
    "print(type(np_height),type(np_weight))"
   ]
  },
  {
   "cell_type": "markdown",
   "metadata": {},
   "source": [
    "Feito isso, a gente precisa criar uma matriz com os valores desejados. Cada ndarray será uma coluna da nossa matriz ndarray."
   ]
  },
  {
   "cell_type": "code",
   "execution_count": 20,
   "metadata": {},
   "outputs": [
    {
     "name": "stdout",
     "output_type": "stream",
     "text": [
      "[[ 1.73  1.68  1.71  1.89  1.79]\n",
      " [65.4  59.2  63.6  88.4  68.7 ]]\n"
     ]
    }
   ],
   "source": [
    "meas = np.array([np_height, np_weight])\n",
    "print(meas)"
   ]
  },
  {
   "cell_type": "markdown",
   "metadata": {},
   "source": [
    "E agora vamos iterar."
   ]
  },
  {
   "cell_type": "code",
   "execution_count": 29,
   "metadata": {},
   "outputs": [
    {
     "name": "stdout",
     "output_type": "stream",
     "text": [
      "O índice 00 é 1.73.\n",
      "O índice 01 é 1.68.\n",
      "O índice 02 é 1.71.\n",
      "O índice 03 é 1.89.\n",
      "O índice 04 é 1.79.\n",
      "O índice 05 é 65.4.\n",
      "O índice 06 é 59.2.\n",
      "O índice 07 é 63.6.\n",
      "O índice 08 é 88.4.\n",
      "O índice 09 é 68.7.\n"
     ]
    }
   ],
   "source": [
    "for index, val in enumerate(np.nditer(meas)):\n",
    "    print(f'O índice {index:0>2} é {val}.')"
   ]
  },
  {
   "cell_type": "markdown",
   "metadata": {},
   "source": [
    "## Pandas"
   ]
  },
  {
   "cell_type": "markdown",
   "metadata": {},
   "source": [
    "### Series\n",
    "\n",
    "```Python\n",
    "    import pandas as pd\n",
    "    brics = pd.read_csv(\"brics.csv\", index_col = 0)\n",
    "    \n",
    "    for lab, row in brics.iterrows():\n",
    "        print(lab)\n",
    "        print(row)\n",
    "\n",
    "```"
   ]
  },
  {
   "cell_type": "code",
   "execution_count": 32,
   "metadata": {},
   "outputs": [],
   "source": [
    "import pandas as pd"
   ]
  },
  {
   "cell_type": "markdown",
   "metadata": {},
   "source": [
    "```Python\n",
    "    import pandas as pd\n",
    "    cars = pd.read_csv(\"cars.csv\", inde_col = 0)\n",
    "    cars[\"COUNTRY\"] = cars[\"country\"],apply(str.upper)\n",
    "```"
   ]
  }
 ],
 "metadata": {
  "interpreter": {
   "hash": "d034eac455ef6a0de03e633f02c98f91f1b386010bcd71958f296e7d2ac4641b"
  },
  "kernelspec": {
   "display_name": "Python 3.8.8 ('base')",
   "language": "python",
   "name": "python3"
  },
  "language_info": {
   "codemirror_mode": {
    "name": "ipython",
    "version": 3
   },
   "file_extension": ".py",
   "mimetype": "text/x-python",
   "name": "python",
   "nbconvert_exporter": "python",
   "pygments_lexer": "ipython3",
   "version": "3.8.8"
  },
  "orig_nbformat": 4
 },
 "nbformat": 4,
 "nbformat_minor": 2
}
