{
 "cells": [
  {
   "cell_type": "code",
   "execution_count": 28,
   "metadata": {},
   "outputs": [],
   "source": [
    "import numpy as np"
   ]
  },
  {
   "cell_type": "markdown",
   "metadata": {},
   "source": [
    "A função random do package numpy é um falso random. Isto porque ele gera números aleatórios de verdade, mas iguais durante uma corrida a partir de um seed. Ou seja, se você usar uma seed 12, a sequência de números aleatórios da primeira chamada de random será sempre igual, sejam 10 chamadas, sejam infinitas. Isso é bom pois garante uma reprodutibilidade do código."
   ]
  },
  {
   "cell_type": "code",
   "execution_count": 29,
   "metadata": {},
   "outputs": [
    {
     "name": "stdout",
     "output_type": "stream",
     "text": [
      "0.6964691855978616\n",
      "0.28613933495037946\n",
      "0.2268514535642031\n",
      "0.5513147690828912\n",
      "0.7194689697855631\n",
      "0.42310646012446096\n"
     ]
    }
   ],
   "source": [
    "np.random.seed(123)\n",
    "print(np.random.rand())\n",
    "print(np.random.rand())\n",
    "print(np.random.rand())\n",
    "print(np.random.rand())\n",
    "print(np.random.rand())\n",
    "print(np.random.rand())"
   ]
  },
  {
   "cell_type": "markdown",
   "metadata": {},
   "source": [
    "Se você reiniciar o programa, perceberá que a sequência sempre será igual.\n",
    "> 0.6964691855978616  \n",
    "> 0.28613933495037946  \n",
    "> 0.2268514535642031  \n",
    "> 0.5513147690828912  \n",
    "> 0.7194689697855631  \n",
    "> 0.42310646012446096  "
   ]
  },
  {
   "cell_type": "markdown",
   "metadata": {},
   "source": [
    "### Números aleatórios inteiros"
   ]
  },
  {
   "cell_type": "markdown",
   "metadata": {},
   "source": [
    "```Python\n",
    "import numpy as np\n",
    "np.random.seed(seed)\n",
    "np.random.randint(initial_value, final_value, quantity)\n",
    "```"
   ]
  },
  {
   "cell_type": "code",
   "execution_count": 30,
   "metadata": {},
   "outputs": [
    {
     "name": "stdout",
     "output_type": "stream",
     "text": [
      "[3 3 7 2 4]\n"
     ]
    }
   ],
   "source": [
    "\n",
    "import numpy as np\n",
    "np.random.seed(123)\n",
    "print(np.random.randint(1, 10, 5))"
   ]
  },
  {
   "cell_type": "markdown",
   "metadata": {},
   "source": [
    "Let's simulate a dice!"
   ]
  },
  {
   "cell_type": "code",
   "execution_count": 31,
   "metadata": {},
   "outputs": [
    {
     "name": "stdout",
     "output_type": "stream",
     "text": [
      "6\n",
      "4\n",
      "5\n",
      "1\n",
      "2\n",
      "4\n",
      "6\n",
      "1\n",
      "1\n",
      "2\n",
      "5\n",
      "6\n"
     ]
    }
   ],
   "source": [
    "np.random.seed(1)\n",
    "print(np.random.randint(1, 7))\n",
    "print(np.random.randint(1, 7))\n",
    "print(np.random.randint(1, 7))\n",
    "print(np.random.randint(1, 7))\n",
    "print(np.random.randint(1, 7))\n",
    "print(np.random.randint(1, 7))\n",
    "print(np.random.randint(1, 7))\n",
    "print(np.random.randint(1, 7))\n",
    "print(np.random.randint(1, 7))\n",
    "print(np.random.randint(1, 7))\n",
    "print(np.random.randint(1, 7))\n",
    "print(np.random.randint(1, 7))"
   ]
  },
  {
   "cell_type": "code",
   "execution_count": 32,
   "metadata": {},
   "outputs": [
    {
     "name": "stdout",
     "output_type": "stream",
     "text": [
      "<class 'numpy.ndarray'>\n"
     ]
    }
   ],
   "source": [
    "data = np.random.randint(1, 7, 1000000)\n",
    "print(type(data))"
   ]
  },
  {
   "cell_type": "code",
   "execution_count": 35,
   "metadata": {},
   "outputs": [
    {
     "data": {
      "text/plain": [
       "(array([166288., 166314., 166638., 166555., 167247., 166958.]),\n",
       " array([1.        , 1.83333333, 2.66666667, 3.5       , 4.33333333,\n",
       "        5.16666667, 6.        ]),\n",
       " <BarContainer object of 6 artists>)"
      ]
     },
     "execution_count": 35,
     "metadata": {},
     "output_type": "execute_result"
    },
    {
     "data": {
      "image/png": "[encoded data removed]",
      "text/plain": [
       "<Figure size 432x288 with 1 Axes>"
      ]
     },
     "metadata": {
      "needs_background": "light"
     },
     "output_type": "display_data"
    }
   ],
   "source": [
    "import matplotlib.pyplot as plt\n",
    "\n",
    "plt.hist(data, bins=6, alpha=0.7, ec='black')"
   ]
  },
  {
   "cell_type": "markdown",
   "metadata": {},
   "source": [
    "## Jogando dados"
   ]
  },
  {
   "cell_type": "code",
   "execution_count": 57,
   "metadata": {},
   "outputs": [
    {
     "data": {
      "text/plain": [
       "(array([597., 553.]),\n",
       " array([0. , 0.5, 1. ]),\n",
       " <BarContainer object of 2 artists>)"
      ]
     },
     "execution_count": 57,
     "metadata": {},
     "output_type": "execute_result"
    },
    {
     "data": {
      "image/png": "[encoded data removed]",
      "text/plain": [
       "<Figure size 432x288 with 1 Axes>"
      ]
     },
     "metadata": {
      "needs_background": "light"
     },
     "output_type": "display_data"
    }
   ],
   "source": [
    "import numpy as np\n",
    "import matplotlib.pyplot as plt\n",
    "# -------\n",
    "np.random.seed(1)\n",
    "outcomes = []\n",
    "def throwCoin(rep):\n",
    "    if rep == 1:\n",
    "        outcomes.append(np.random.randint(0, 2))\n",
    "    else:\n",
    "        outcomes.append(np.random.randint(0, 2))\n",
    "        throwCoin(rep-1)\n",
    "        \n",
    "throwCoin(1150)\n",
    "plt.hist(outcomes, bins=2, ec='black')\n",
    "\n",
    "# O ruim disso é que a partir de um número, o Python gera um erro por ter atingido um número máximo de recursividade.\n",
    "    "
   ]
  },
  {
   "cell_type": "code",
   "execution_count": 67,
   "metadata": {},
   "outputs": [
    {
     "data": {
      "text/plain": [
       "(array([500011., 499989.]),\n",
       " array([0. , 0.5, 1. ]),\n",
       " <BarContainer object of 2 artists>)"
      ]
     },
     "execution_count": 67,
     "metadata": {},
     "output_type": "execute_result"
    },
    {
     "data": {
      "image/png": "[encoded data removed]",
      "text/plain": [
       "<Figure size 432x288 with 1 Axes>"
      ]
     },
     "metadata": {
      "needs_background": "light"
     },
     "output_type": "display_data"
    }
   ],
   "source": [
    "import numpy as np\n",
    "import matplotlib.pyplot as plt\n",
    "# -------\n",
    "np.random.seed(1)\n",
    "outcomes = []\n",
    "def throwCoin(rep):\n",
    "    for face in range(0, rep):\n",
    "        outcomes.append(np.random.randint(0, 2))\n",
    "        \n",
    "throwCoin(1000000)\n",
    "plt.hist(outcomes, bins=2, ec='black')"
   ]
  },
  {
   "cell_type": "code",
   "execution_count": 70,
   "metadata": {},
   "outputs": [
    {
     "name": "stdout",
     "output_type": "stream",
     "text": [
      "[1 1 0 ... 1 1 0]\n"
     ]
    },
    {
     "data": {
      "text/plain": [
       "(1000000,)"
      ]
     },
     "execution_count": 70,
     "metadata": {},
     "output_type": "execute_result"
    }
   ],
   "source": [
    "outcomes_np = np.array(outcomes)\n",
    "print(outcomes_np)\n",
    "outcomes_np.shape"
   ]
  }
 ],
 "metadata": {
  "interpreter": {
   "hash": "d034eac455ef6a0de03e633f02c98f91f1b386010bcd71958f296e7d2ac4641b"
  },
  "kernelspec": {
   "display_name": "Python 3.8.8 ('base')",
   "language": "python",
   "name": "python3"
  },
  "language_info": {
   "codemirror_mode": {
    "name": "ipython",
    "version": 3
   },
   "file_extension": ".py",
   "mimetype": "text/x-python",
   "name": "python",
   "nbconvert_exporter": "python",
   "pygments_lexer": "ipython3",
   "version": "3.8.8"
  },
  "orig_nbformat": 4
 },
 "nbformat": 4,
 "nbformat_minor": 2
}
