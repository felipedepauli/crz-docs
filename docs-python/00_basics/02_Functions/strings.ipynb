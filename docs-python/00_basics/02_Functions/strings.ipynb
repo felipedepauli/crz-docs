{
 "cells": [
  {
   "cell_type": "code",
   "execution_count": 2,
   "metadata": {},
   "outputs": [
    {
     "name": "stdout",
     "output_type": "stream",
     "text": [
      "Felipe Camargo de Pauli___________________________\n",
      "___________________________Felipe Camargo de Pauli\n"
     ]
    },
    {
     "data": {
      "text/plain": [
       "'_____________Felipe Camargo de Pauli______________'"
      ]
     },
     "execution_count": 2,
     "metadata": {},
     "output_type": "execute_result"
    }
   ],
   "source": [
    "print('Felipe Camargo de Pauli'.ljust(50, '_'))\n",
    "print('Felipe Camargo de Pauli'.rjust(50, '_'))\n",
    "'Felipe Camargo de Pauli'.center(50, '_')"
   ]
  },
  {
   "cell_type": "code",
   "execution_count": 4,
   "metadata": {},
   "outputs": [
    {
     "name": "stdout",
     "output_type": "stream",
     "text": [
      "i\n",
      "F\n"
     ]
    }
   ],
   "source": [
    "# positivos =  [012345]\n",
    "texto       =  'Felipe'\n",
    "print(texto[3])\n",
    "# negativos = -[654321]\n",
    "texto       =  'Felipe'\n",
    "print(texto[-6])"
   ]
  },
  {
   "cell_type": "code",
   "execution_count": 12,
   "metadata": {},
   "outputs": [
    {
     "name": "stdout",
     "output_type": "stream",
     "text": [
      "0123\n",
      "456789\n",
      "02468\n",
      "0369\n"
     ]
    }
   ],
   "source": [
    "texto = '0123456789'\n",
    "nova_string = texto[0:4]\n",
    "print(nova_string)\n",
    "nova_string = texto[4:10]\n",
    "print(nova_string)\n",
    "nova_string = texto[0::2]\n",
    "print(nova_string)\n",
    "nova_string = texto[0::3]\n",
    "print(nova_string)"
   ]
  }
 ],
 "metadata": {
  "interpreter": {
   "hash": "213202a0cd8efddbbf511abb213508e1e768e8ce4ad6ba2c9ec5c0d49826e071"
  },
  "kernelspec": {
   "display_name": "Python 3.9.10 64-bit (windows store)",
   "language": "python",
   "name": "python3"
  },
  "language_info": {
   "codemirror_mode": {
    "name": "ipython",
    "version": 3
   },
   "file_extension": ".py",
   "mimetype": "text/x-python",
   "name": "python",
   "nbconvert_exporter": "python",
   "pygments_lexer": "ipython3",
   "version": "3.9.10"
  },
  "orig_nbformat": 4
 },
 "nbformat": 4,
 "nbformat_minor": 2
}
