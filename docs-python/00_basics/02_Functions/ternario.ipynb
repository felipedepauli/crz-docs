{
 "cells": [
  {
   "cell_type": "code",
   "execution_count": 2,
   "metadata": {},
   "outputs": [
    {
     "name": "stdout",
     "output_type": "stream",
     "text": [
      "Usuário não logado.\n",
      "Usuário logado!\n"
     ]
    }
   ],
   "source": [
    "logged_user = False\n",
    "msg = \"Usuário logado!\" if logged_user else \"Usuário não logado.\"\n",
    "print(msg)\n",
    "\n",
    "logged_user = True\n",
    "msg = \"Usuário logado!\" if logged_user else \"Usuário não logado.\"\n",
    "print(msg)"
   ]
  }
 ],
 "metadata": {
  "interpreter": {
   "hash": "d034eac455ef6a0de03e633f02c98f91f1b386010bcd71958f296e7d2ac4641b"
  },
  "kernelspec": {
   "display_name": "Python 3.8.8 64-bit ('base': conda)",
   "language": "python",
   "name": "python3"
  },
  "language_info": {
   "codemirror_mode": {
    "name": "ipython",
    "version": 3
   },
   "file_extension": ".py",
   "mimetype": "text/x-python",
   "name": "python",
   "nbconvert_exporter": "python",
   "pygments_lexer": "ipython3",
   "version": "3.8.8"
  },
  "orig_nbformat": 4
 },
 "nbformat": 4,
 "nbformat_minor": 2
}
