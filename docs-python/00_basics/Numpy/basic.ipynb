{
 "cells": [
  {
   "cell_type": "code",
   "execution_count": null,
   "metadata": {},
   "outputs": [],
   "source": []
  },
  {
   "cell_type": "markdown",
   "metadata": {},
   "source": [
    "Listas não são legais para realização de cálculos. Eles são legais para se armazenar como uma estrutura de dados, e só. Para operações matemáticas, para utilizar uma \"lista\" como um vetor (ou matriz), será muito mais interessante e fácil utilizar o Numpy."
   ]
  },
  {
   "cell_type": "code",
   "execution_count": 3,
   "metadata": {},
   "outputs": [
    {
     "data": {
      "text/plain": [
       "[1.73, 1.68, 1.71, 1.89, 1.79]"
      ]
     },
     "execution_count": 3,
     "metadata": {},
     "output_type": "execute_result"
    }
   ],
   "source": [
    "height = [1.73, 1.68, 1.71, 1.89, 1.79]\n",
    "height"
   ]
  },
  {
   "cell_type": "code",
   "execution_count": 6,
   "metadata": {},
   "outputs": [
    {
     "data": {
      "text/plain": [
       "[85.4, 70.0, 64.6, 88.4, 68.7]"
      ]
     },
     "execution_count": 6,
     "metadata": {},
     "output_type": "execute_result"
    }
   ],
   "source": [
    "weight = [85.4, 70.0, 64.6, 88.4, 68.7]\n",
    "weight"
   ]
  },
  {
   "cell_type": "code",
   "execution_count": 8,
   "metadata": {},
   "outputs": [
    {
     "ename": "TypeError",
     "evalue": "unsupported operand type(s) for ** or pow(): 'list' and 'int'",
     "output_type": "error",
     "traceback": [
      "\u001b[1;31m---------------------------------------------------------------------------\u001b[0m",
      "\u001b[1;31mTypeError\u001b[0m                                 Traceback (most recent call last)",
      "\u001b[1;32m~\\AppData\\Local\\Temp/ipykernel_25832/2468969233.py\u001b[0m in \u001b[0;36m<module>\u001b[1;34m\u001b[0m\n\u001b[1;32m----> 1\u001b[1;33m \u001b[0mimc\u001b[0m \u001b[1;33m=\u001b[0m \u001b[0mweight\u001b[0m \u001b[1;33m/\u001b[0m \u001b[0mheight\u001b[0m \u001b[1;33m**\u001b[0m \u001b[1;36m2\u001b[0m   \u001b[1;31m# Aqui vai rolar um erro!!!!\u001b[0m\u001b[1;33m\u001b[0m\u001b[1;33m\u001b[0m\u001b[0m\n\u001b[0m",
      "\u001b[1;31mTypeError\u001b[0m: unsupported operand type(s) for ** or pow(): 'list' and 'int'"
     ]
    }
   ],
   "source": [
    "imc = weight / height ** 2   # Aqui vai rolar um erro!!!!"
   ]
  },
  {
   "cell_type": "code",
   "execution_count": 9,
   "metadata": {},
   "outputs": [],
   "source": [
    "import numpy as np"
   ]
  },
  {
   "cell_type": "markdown",
   "metadata": {},
   "source": [
    "O ndarray é o array de n dimensões do numpy que fuciona como uma lista com possibilidade de se utilizar para realizar operações matemáticas.\n",
    "\n",
    "Ele é:\n",
    "* Um pacote de métodos numéricos do Python (numerical python)\n",
    "* Uma alternativa às listas\n",
    "* Os cálculos são realizados sobre todos os elementos do array\n",
    "* É rápido e fácil, além de ser otimizado para data science"
   ]
  },
  {
   "cell_type": "code",
   "execution_count": 12,
   "metadata": {},
   "outputs": [
    {
     "name": "stdout",
     "output_type": "stream",
     "text": [
      "[28.5341976  24.8015873  22.09226771 24.7473475  21.44127836]\n"
     ]
    }
   ],
   "source": [
    "new_height = np.array(height)\n",
    "new_weight = np.array(weight)\n",
    "\n",
    "imc = new_weight / new_height ** 2\n",
    "print(imc)\n",
    "\n",
    "new_height."
   ]
  },
  {
   "cell_type": "markdown",
   "metadata": {},
   "source": [
    "```Python\n",
    "Ndarray.all()\n",
    "Ndarray.any()\n",
    "Ndarray.argmax()\n",
    "Ndarray.argmin()\n",
    "Ndarray.argpartition()\n",
    "Ndarray.argsort()\n",
    "Ndarray.astype()\n",
    "Ndarray.base()\n",
    "Ndarray.byteswap()\n",
    "Ndarray.choose()\n",
    "Ndarray.clip()\n",
    "Ndarray.compress()\n",
    "Ndarray.conj()\n",
    "Ndarray.conjugate()\n",
    "Ndarray.copy()\n",
    "Ndarray.cumprod()\n",
    "Ndarray.cumsum()\n",
    "Ndarray.diagonal()\n",
    "Ndarray.dot()\n",
    "Ndarray.dump()\n",
    "Ndarray.dumps()\n",
    "Ndarray.fill()\n",
    "Ndarray.flags()\n",
    "Ndarray.flat()\n",
    "Ndarray.flatten()\n",
    "Ndarray.getfield()\n",
    "Ndarray.item()\n",
    "Ndarray.itemset()\n",
    "Ndarray.max()\n",
    "Ndarray.mean()\n",
    "Ndarray.min()\n",
    "Ndarray.newbyteorder()\n",
    "Ndarray.nonzero()\n",
    "Ndarray.partition()\n",
    "Ndarray.prod()\n",
    "Ndarray.ptp()\n",
    "Ndarray.put()\n",
    "Ndarray.ravel()\n",
    "Ndarray.repeat()\n",
    "Ndarray.reshape()\n",
    "Ndarray.resize()\n",
    "Ndarray.round()\n",
    "Ndarray.searchsorted()\n",
    "Ndarray.setfield()\n",
    "Ndarray.setflags()\n",
    "Ndarray.sort()\n",
    "Ndarray.squeeze()\n",
    "Ndarray.std()\n",
    "Ndarray.sum()\n",
    "Ndarray.swapaxes()\n",
    "Ndarray.take()\n",
    "Ndarray.tobytes()\n",
    "Ndarray.tofile()\n",
    "Ndarray.trace()\n",
    "Ndarray.transpose()\n",
    "Ndarray.var()\n",
    "Ndarray.view()\n",
    "```"
   ]
  },
  {
   "cell_type": "markdown",
   "metadata": {},
   "source": [
    "Vejamos uma diferença bem clara entre ambos. Se somarmos duas listas, elas serão concatenadas. Se somarmos dois ndarrays, cada elemento será somado."
   ]
  },
  {
   "cell_type": "code",
   "execution_count": 14,
   "metadata": {},
   "outputs": [
    {
     "name": "stdout",
     "output_type": "stream",
     "text": [
      "[1, 2, 3, 4, 5, 6, 7, 8, 9, 1]\n",
      "[ 7  9 11 13  6]\n"
     ]
    }
   ],
   "source": [
    "la = [1, 2, 3, 4, 5]\n",
    "lb = [6, 7, 8, 9, 1]\n",
    "\n",
    "print(la+lb)\n",
    "print(np.array(la) + np.array(lb))"
   ]
  },
  {
   "cell_type": "markdown",
   "metadata": {},
   "source": [
    "Outra coisa legal do ndarray é que ele permite que se obtenha um novo ndarray quando se faz uma verificação lógica."
   ]
  },
  {
   "cell_type": "code",
   "execution_count": 19,
   "metadata": {},
   "outputs": [
    {
     "name": "stdout",
     "output_type": "stream",
     "text": [
      "[False False  True  True  True]\n",
      "[1 2 3 4 5]\n",
      "[3 4 5]\n"
     ]
    }
   ],
   "source": [
    "valores_que_me_interessam = np.array(la) > 2\n",
    "print(valores_que_me_interessam)\n",
    "\n",
    "npla = np.array(la)\n",
    "\n",
    "print(npla)\n",
    "print(npla[npla>2])"
   ]
  },
  {
   "cell_type": "markdown",
   "metadata": {},
   "source": [
    "### N dimensões\n",
    "\n",
    "Bom, até agora só vimos uma dimensão. Mas podemos ter infinitas delas. Para vermos quantas dimensões temos, e quantos elementos em cada dimensão temos, podemos utilizar o dnarray.shape()."
   ]
  },
  {
   "cell_type": "code",
   "execution_count": 20,
   "metadata": {},
   "outputs": [
    {
     "name": "stdout",
     "output_type": "stream",
     "text": [
      "<class 'numpy.ndarray'>\n"
     ]
    }
   ],
   "source": [
    "print(type(npla))"
   ]
  },
  {
   "cell_type": "code",
   "execution_count": 29,
   "metadata": {},
   "outputs": [
    {
     "name": "stdout",
     "output_type": "stream",
     "text": [
      "(2, 5)\n"
     ]
    }
   ],
   "source": [
    "np_2d = np.array([la, lb])\n",
    "print(np_2d.shape) # Temos 2 linhas e 5 colunas."
   ]
  },
  {
   "cell_type": "markdown",
   "metadata": {},
   "source": [
    "### Selecionar elementos em arrays de mais de uma dimensão"
   ]
  },
  {
   "cell_type": "code",
   "execution_count": 31,
   "metadata": {},
   "outputs": [
    {
     "name": "stdout",
     "output_type": "stream",
     "text": [
      "[[1 2 3 4 5]\n",
      " [6 7 8 9 1]]\n"
     ]
    }
   ],
   "source": [
    "print(np_2d)"
   ]
  },
  {
   "cell_type": "code",
   "execution_count": 33,
   "metadata": {},
   "outputs": [
    {
     "name": "stdout",
     "output_type": "stream",
     "text": [
      "2 2\n",
      "Help on function column_stack in module numpy:\n",
      "\n",
      "column_stack(tup)\n",
      "    Stack 1-D arrays as columns into a 2-D array.\n",
      "    \n",
      "    Take a sequence of 1-D arrays and stack them as columns\n",
      "    to make a single 2-D array. 2-D arrays are stacked as-is,\n",
      "    just like with `hstack`.  1-D arrays are turned into 2-D columns\n",
      "    first.\n",
      "    \n",
      "    Parameters\n",
      "    ----------\n",
      "    tup : sequence of 1-D or 2-D arrays.\n",
      "        Arrays to stack. All of them must have the same first dimension.\n",
      "    \n",
      "    Returns\n",
      "    -------\n",
      "    stacked : 2-D array\n",
      "        The array formed by stacking the given arrays.\n",
      "    \n",
      "    See Also\n",
      "    --------\n",
      "    stack, hstack, vstack, concatenate\n",
      "    \n",
      "    Examples\n",
      "    --------\n",
      "    >>> a = np.array((1,2,3))\n",
      "    >>> b = np.array((2,3,4))\n",
      "    >>> np.column_stack((a,b))\n",
      "    array([[1, 2],\n",
      "           [2, 3],\n",
      "           [3, 4]])\n",
      "\n"
     ]
    }
   ],
   "source": [
    "x = np_2d[0][1]\n",
    "y = np_2d[0,1]\n",
    "print(x, y)\n",
    "\n",
    "\n",
    "help(np.column_stack)\n"
   ]
  }
 ],
 "metadata": {
  "interpreter": {
   "hash": "d034eac455ef6a0de03e633f02c98f91f1b386010bcd71958f296e7d2ac4641b"
  },
  "kernelspec": {
   "display_name": "Python 3.8.8 ('base')",
   "language": "python",
   "name": "python3"
  },
  "language_info": {
   "codemirror_mode": {
    "name": "ipython",
    "version": 3
   },
   "file_extension": ".py",
   "mimetype": "text/x-python",
   "name": "python",
   "nbconvert_exporter": "python",
   "pygments_lexer": "ipython3",
   "version": "3.8.8"
  },
  "orig_nbformat": 4
 },
 "nbformat": 4,
 "nbformat_minor": 2
}
