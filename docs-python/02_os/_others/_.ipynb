{
 "cells": [
  {
   "cell_type": "code",
   "execution_count": 2,
   "metadata": {},
   "outputs": [],
   "source": [
    "import os"
   ]
  },
  {
   "cell_type": "code",
   "execution_count": 3,
   "metadata": {},
   "outputs": [],
   "source": [
    "base_name = \"/home/fpauli/git/crz-docs/docs-python/02_os/_others/SFL5C17_3.jpg\""
   ]
  },
  {
   "cell_type": "code",
   "execution_count": 12,
   "metadata": {},
   "outputs": [
    {
     "name": "stdout",
     "output_type": "stream",
     "text": [
      "['/home/fpauli/git/crz-docs/docs-python/02_os/_others/SFL5C17_3', '.jpg']\n",
      "['/home/fpauli/git/crz-docs/docs-python/02_os/_others/SFL5C17_3', 'jpg']\n",
      "SFL5C17_3.jpg\n",
      "/Downloads\n",
      "/home/Downloads/\n"
     ]
    }
   ],
   "source": [
    "print(list(os.path.splitext(base_name)))\n",
    "print(os.path.abspath(base_name).split(\".\"))\n",
    "print(os.path.basename(base_name))\n",
    "print(os.path.join(\"/home\", \"/Downloads\"))\n",
    "print(os.path.join(\"/home\", \"Downloads\", \"\"))"
   ]
  }
 ],
 "metadata": {
  "kernelspec": {
   "display_name": "docs-python",
   "language": "python",
   "name": "python3"
  },
  "language_info": {
   "codemirror_mode": {
    "name": "ipython",
    "version": 3
   },
   "file_extension": ".py",
   "mimetype": "text/x-python",
   "name": "python",
   "nbconvert_exporter": "python",
   "pygments_lexer": "ipython3",
   "version": "3.11.4"
  }
 },
 "nbformat": 4,
 "nbformat_minor": 2
}
