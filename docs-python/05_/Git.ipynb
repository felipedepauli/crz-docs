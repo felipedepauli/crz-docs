{
 "cells": [
  {
   "cell_type": "code",
   "execution_count": 2,
   "id": "6c8e8934",
   "metadata": {},
   "outputs": [],
   "source": [
    "# git config --global user.name \"Nome do maluco\"\n",
    "# git config --global user.email \"email@do.malucao\"\n",
    "\n",
    "# git config -l\n",
    "\n",
    "# git init\n",
    "# git add arquivo.py\n",
    "# git status\n",
    "\n",
    "# git remove --staged file\n",
    "\n",
    "# git commit\n",
    "# git commit -m \"Message\"\n",
    "# git commit -a\n",
    "# git commit -a -m \"Message\"\n",
    "# --- Neste último, muito se diz sobre ser a contraçãod e git add . com git commit, mas não é verdade. Não é verdade\n",
    "# --- porque o git commit -a ele só regitra no stage aqueles arquivos que já fazem parte do projeto. Se houver arquivos\n",
    "# --- novos, ele não pegará.\n",
    "\n",
    "# git log\n",
    "\n",
    "# Head é usado como apelido para representar o snapshot que é estável (corrente, atual).\n",
    "\n",
    "# git show id\n",
    "# git diff\n",
    "\n",
    "# git rm file # Isso aqui vai remover o arquivo e marcar para ir para o stage (dêy uma olhada com o status)."
   ]
  },
  {
   "cell_type": "code",
   "execution_count": 8,
   "id": "850a5de0",
   "metadata": {},
   "outputs": [
    {
     "data": {
      "text/plain": [
       "36"
      ]
     },
     "execution_count": 8,
     "metadata": {},
     "output_type": "execute_result"
    }
   ],
   "source": [
    "lista = [\"46\", \"65\", \"6c\", \"69\", \"70\", \"65\", \"20\", \"43\", \"61\", \"6d\", \"61\", \"72\", \"67\", \"6f\", \"20\", \"64\", \"65\", \"20\", \"50\", \"61\", \"75\", \"6c\", \"69\", \"20\", \"2d\", \"2d\", \"2d\", \"20\", \"23\", \"23\", \"23\", \"20\", \"2d\", \"2d\", \"2d\", \"20\"]\n",
    "len(lista)"
   ]
  }
 ],
 "metadata": {
  "kernelspec": {
   "display_name": "Python 3 (ipykernel)",
   "language": "python",
   "name": "python3"
  },
  "language_info": {
   "codemirror_mode": {
    "name": "ipython",
    "version": 3
   },
   "file_extension": ".py",
   "mimetype": "text/x-python",
   "name": "python",
   "nbconvert_exporter": "python",
   "pygments_lexer": "ipython3",
   "version": "3.8.8"
  }
 },
 "nbformat": 4,
 "nbformat_minor": 5
}
