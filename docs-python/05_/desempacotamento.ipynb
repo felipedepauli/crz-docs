{
 "cells": [
  {
   "cell_type": "code",
   "execution_count": 7,
   "metadata": {},
   "outputs": [
    {
     "name": "stdout",
     "output_type": "stream",
     "text": [
      "Luiz João\n",
      "['Maria', 'Satanás', 'Marmelo']\n",
      "Helena\n"
     ]
    }
   ],
   "source": [
    "lista = ['Luiz', 'João', 'Maria', 'Satanás', 'Marmelo', 'Helena']\n",
    "\n",
    "n1, n2, *outrasParadas, gatinha = lista\n",
    "\n",
    "print(n1, n2)\n",
    "print(outrasParadas)\n",
    "print(gatinha)"
   ]
  },
  {
   "cell_type": "markdown",
   "metadata": {},
   "source": [
    "Se você quiser indicar para outros desenvolvedores que você não vai utilizar outras variáveis, você pode utilizar o *_"
   ]
  },
  {
   "cell_type": "code",
   "execution_count": 10,
   "metadata": {},
   "outputs": [
    {
     "data": {
      "text/plain": [
       "'Helena'"
      ]
     },
     "execution_count": 10,
     "metadata": {},
     "output_type": "execute_result"
    }
   ],
   "source": [
    "*_, gatinha = lista\n",
    "gatinha"
   ]
  }
 ],
 "metadata": {
  "interpreter": {
   "hash": "d034eac455ef6a0de03e633f02c98f91f1b386010bcd71958f296e7d2ac4641b"
  },
  "kernelspec": {
   "display_name": "Python 3.8.8 64-bit ('base': conda)",
   "language": "python",
   "name": "python3"
  },
  "language_info": {
   "codemirror_mode": {
    "name": "ipython",
    "version": 3
   },
   "file_extension": ".py",
   "mimetype": "text/x-python",
   "name": "python",
   "nbconvert_exporter": "python",
   "pygments_lexer": "ipython3",
   "version": "3.8.8"
  },
  "orig_nbformat": 4
 },
 "nbformat": 4,
 "nbformat_minor": 2
}
