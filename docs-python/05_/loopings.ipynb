{
 "cells": [
  {
   "cell_type": "code",
   "execution_count": 1,
   "metadata": {},
   "outputs": [
    {
     "name": "stdout",
     "output_type": "stream",
     "text": [
      "Não tem letra \"a\" nesta pqp!\n"
     ]
    }
   ],
   "source": [
    "texto = input(\"Digite um texto\")\n",
    "contador = 0\n",
    "for letra in texto:\n",
    "    if (letra == 'a'):\n",
    "        contador += 1\n",
    "    else:\n",
    "        continue\n",
    "if (contador == 0):\n",
    "    print('Não tem letra \"a\" nesta pqp!')\n",
    "else:\n",
    "    if contador > 1:\n",
    "        plural = 's'\n",
    "    print(f'Tem {contador} letra{plural} \"a\" nesta pqp!')"
   ]
  },
  {
   "cell_type": "code",
   "execution_count": 22,
   "metadata": {},
   "outputs": [
    {
     "name": "stdout",
     "output_type": "stream",
     "text": [
      "<class 'range'>\n",
      "<class 'enumerate'>\n",
      "0 10\n",
      "1 9\n",
      "2 8\n",
      "3 7\n",
      "4 6\n",
      "5 5\n",
      "6 4\n",
      "7 3\n",
      "8 2\n"
     ]
    }
   ],
   "source": [
    "intervalo = range(10, 1, -1)\n",
    "\n",
    "print(type(intervalo))\n",
    "print(type(enumerate(intervalo)))\n",
    "\n",
    "for i, j in enumerate(intervalo):\n",
    "    print(i, j)"
   ]
  },
  {
   "cell_type": "code",
   "execution_count": 61,
   "metadata": {},
   "outputs": [
    {
     "name": "stdout",
     "output_type": "stream",
     "text": [
      "--------------------------------------\n",
      " Coin: Bitcoin\t Price: R$ 48.000,00\n",
      "--------------------------------------\n",
      " Coin: Ethereum\t Price:  R$ 2.585,00\n",
      "--------------------------------------\n",
      " Coin: Cardano\t Price:      R$ 2,00\n",
      "--------------------------------------\n"
     ]
    }
   ],
   "source": [
    "import locale\n",
    "locale.setlocale(locale.LC_ALL, 'pt_BR.UTF-8')\n",
    "\n",
    "coins = [\"Bitcoin\", \"Ethereum\", \"Cardano\"]\n",
    "prices = [48000, 2585, 2]\n",
    "print('--------------------------------------')\n",
    "for index, coin in enumerate(coins):\n",
    "    price = locale.currency(prices[index], grouping=True, symbol=\"R$\")\n",
    "    print(f' Coin: {coin}\\t Price: {price: >12}')\n",
    "    print('--------------------------------------')"
   ]
  }
 ],
 "metadata": {
  "interpreter": {
   "hash": "d034eac455ef6a0de03e633f02c98f91f1b386010bcd71958f296e7d2ac4641b"
  },
  "kernelspec": {
   "display_name": "Python 3.8.8 64-bit ('base': conda)",
   "language": "python",
   "name": "python3"
  },
  "language_info": {
   "codemirror_mode": {
    "name": "ipython",
    "version": 3
   },
   "file_extension": ".py",
   "mimetype": "text/x-python",
   "name": "python",
   "nbconvert_exporter": "python",
   "pygments_lexer": "ipython3",
   "version": "3.8.8"
  },
  "orig_nbformat": 4
 },
 "nbformat": 4,
 "nbformat_minor": 2
}
