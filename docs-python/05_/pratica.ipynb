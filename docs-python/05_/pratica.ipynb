{
 "cells": [
  {
   "cell_type": "markdown",
   "metadata": {},
   "source": [
    "Faça um programa que peça ao usuário para digitar um número inteiro. Informe se este número é par ou ímpar. Caso o usuário não digite um número inteiro, informe que não é um número inteiro."
   ]
  },
  {
   "cell_type": "code",
   "execution_count": 8,
   "metadata": {},
   "outputs": [
    {
     "name": "stdout",
     "output_type": "stream",
     "text": [
      "Deu ruim. Não é número.\n"
     ]
    }
   ],
   "source": [
    "num = input('Digite um número inteiro:')\n",
    "\n",
    "if not num.isnumeric():\n",
    "    print(f'Deu ruim. Não é número.')\n",
    "else:\n",
    "    num = int(num)\n",
    "    if num%2 == 0:\n",
    "        print(f'O número {num} é par.')\n",
    "    else:\n",
    "        print(f'O número {num} é ímpar.')"
   ]
  },
  {
   "cell_type": "markdown",
   "metadata": {},
   "source": [
    "Faça um programa que pergunte a hora ao usuário e, baseando-se no horário descrito, exiba a saudação apropriada."
   ]
  },
  {
   "cell_type": "code",
   "execution_count": 15,
   "metadata": {},
   "outputs": [
    {
     "name": "stdout",
     "output_type": "stream",
     "text": [
      "Bom dia! 2022-02-01 09:39:02.267709\n"
     ]
    }
   ],
   "source": [
    "from datetime import datetime\n",
    "now = datetime.today()\n",
    "\n",
    "if now.hour > 11 and now.hour < 18:\n",
    "    prefix = \"Boa tarde! \"\n",
    "elif now.hour < 11:\n",
    "    prefix = \"Bom dia!\"\n",
    "else:\n",
    "    prefix = \"Boa noite!\"\n",
    "\n",
    "print(prefix, now)"
   ]
  }
 ],
 "metadata": {
  "interpreter": {
   "hash": "d034eac455ef6a0de03e633f02c98f91f1b386010bcd71958f296e7d2ac4641b"
  },
  "kernelspec": {
   "display_name": "Python 3.8.8 64-bit ('base': conda)",
   "language": "python",
   "name": "python3"
  },
  "language_info": {
   "codemirror_mode": {
    "name": "ipython",
    "version": 3
   },
   "file_extension": ".py",
   "mimetype": "text/x-python",
   "name": "python",
   "nbconvert_exporter": "python",
   "pygments_lexer": "ipython3",
   "version": "3.8.8"
  },
  "orig_nbformat": 4
 },
 "nbformat": 4,
 "nbformat_minor": 2
}
