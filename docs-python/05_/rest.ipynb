{
 "cells": [
  {
   "cell_type": "code",
   "execution_count": 26,
   "metadata": {},
   "outputs": [],
   "source": [
    "def decompor(a, b, *rest):\n",
    "    print(f'A variável a recebeu {a}.')\n",
    "    print(f'A variável b recebeu {b}.')\n",
    "    print(f'O vetor rest recebeu {rest}.')\n",
    "    print(type(rest))"
   ]
  },
  {
   "cell_type": "code",
   "execution_count": 27,
   "metadata": {},
   "outputs": [
    {
     "name": "stdout",
     "output_type": "stream",
     "text": [
      "A variável a recebeu 1.\n",
      "A variável b recebeu 2.\n",
      "O vetor rest recebeu (3, 4, 5, 6, 7, 8).\n",
      "<class 'tuple'>\n"
     ]
    }
   ],
   "source": [
    "decompor(*[1, 2, 3, 4, 5, 6, 7, 8])"
   ]
  },
  {
   "cell_type": "code",
   "execution_count": 28,
   "metadata": {},
   "outputs": [
    {
     "name": "stdout",
     "output_type": "stream",
     "text": [
      "A variável a recebeu 1.\n",
      "A variável b recebeu 2.\n",
      "O vetor rest recebeu [3, 4, 5, 6, 7, 8, 9].\n",
      "<class 'list'>\n"
     ]
    }
   ],
   "source": [
    "satanas = [1, 2, 3, 4, 5, 6, 7, 8, 9]\n",
    "a, b, *rest = satanas\n",
    "print(f'A variável a recebeu {a}.')\n",
    "print(f'A variável b recebeu {b}.')\n",
    "print(f'O vetor rest recebeu {rest}.')\n",
    "print(type(rest))"
   ]
  },
  {
   "cell_type": "code",
   "execution_count": 30,
   "metadata": {},
   "outputs": [
    {
     "name": "stdout",
     "output_type": "stream",
     "text": [
      "1\n",
      "2\n",
      "3\n",
      "4\n",
      "5\n",
      "6\n",
      "7\n",
      "8\n",
      "9\n"
     ]
    }
   ],
   "source": [
    "def printaEssaParada(*args):\n",
    "    for arg in args:\n",
    "        print(arg)\n",
    "\n",
    "printaEssaParada(*satanas)"
   ]
  },
  {
   "cell_type": "code",
   "execution_count": 44,
   "metadata": {},
   "outputs": [
    {
     "name": "stdout",
     "output_type": "stream",
     "text": [
      "1\n",
      "2\n",
      "3\n",
      "4\n",
      "Felipão da Massa\n",
      "89\n",
      "---------------\n",
      "Sem nome, magrão.\n",
      "Sem idade, meu irmãozinho.\n"
     ]
    }
   ],
   "source": [
    "def meuSatanas(*args, **kwargs):\n",
    "    for arg in args:\n",
    "        print(arg)\n",
    "    # print(f'Name = {kwargs[\"name\"]}')\n",
    "    # print(f'Age  = {kwargs[\"age\"]}')\n",
    "\n",
    "    NominhaDaBahia  = kwargs.get('name')\n",
    "    IdadinhaDaBahia = kwargs.get('age')\n",
    "\n",
    "    if NominhaDaBahia is not None:\n",
    "        print(NominhaDaBahia)\n",
    "    else:\n",
    "        print(\"Sem nome, magrão.\")\n",
    "\n",
    "    if IdadinhaDaBahia is not None:\n",
    "        print(IdadinhaDaBahia)\n",
    "    else:\n",
    "        print(\"Sem idade, meu irmãozinho.\")\n",
    "\n",
    "\n",
    "meuSatanas(1, 2, 3, 4, name=\"Felipão da Massa\", age=89)\n",
    "print('---------------')\n",
    "meuSatanas()"
   ]
  }
 ],
 "metadata": {
  "interpreter": {
   "hash": "d034eac455ef6a0de03e633f02c98f91f1b386010bcd71958f296e7d2ac4641b"
  },
  "kernelspec": {
   "display_name": "Python 3.8.8 ('base')",
   "language": "python",
   "name": "python3"
  },
  "language_info": {
   "codemirror_mode": {
    "name": "ipython",
    "version": 3
   },
   "file_extension": ".py",
   "mimetype": "text/x-python",
   "name": "python",
   "nbconvert_exporter": "python",
   "pygments_lexer": "ipython3",
   "version": "3.8.8"
  },
  "orig_nbformat": 4
 },
 "nbformat": 4,
 "nbformat_minor": 2
}
