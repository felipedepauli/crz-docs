{
 "cells": [
  {
   "cell_type": "code",
   "execution_count": 12,
   "metadata": {},
   "outputs": [],
   "source": [
    "# cpf_digitado = input('Digite CPF:')\n",
    "cpf_digitado = '04803460973'\n",
    "# 048034609 - 73\n",
    "cpf = cpf_digitado[0:9]\n",
    "\n",
    "verificador = [0, 0]\n",
    "\n",
    "for dig in cpf:\n",
    "    verificador[0] += int(dig)*"
   ]
  }
 ],
 "metadata": {
  "interpreter": {
   "hash": "d034eac455ef6a0de03e633f02c98f91f1b386010bcd71958f296e7d2ac4641b"
  },
  "kernelspec": {
   "display_name": "Python 3.8.8 ('base')",
   "language": "python",
   "name": "python3"
  },
  "language_info": {
   "codemirror_mode": {
    "name": "ipython",
    "version": 3
   },
   "file_extension": ".py",
   "mimetype": "text/x-python",
   "name": "python",
   "nbconvert_exporter": "python",
   "pygments_lexer": "ipython3",
   "version": "3.8.8"
  },
  "orig_nbformat": 4
 },
 "nbformat": 4,
 "nbformat_minor": 2
}
